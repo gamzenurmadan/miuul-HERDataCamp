{
  "nbformat": 4,
  "nbformat_minor": 0,
  "metadata": {
    "colab": {
      "provenance": [],
      "authorship_tag": "ABX9TyNHRCtLONT034m8k+6ZnJi5",
      "include_colab_link": true
    },
    "kernelspec": {
      "name": "python3",
      "display_name": "Python 3"
    },
    "language_info": {
      "name": "python"
    }
  },
  "cells": [
    {
      "cell_type": "markdown",
      "metadata": {
        "id": "view-in-github",
        "colab_type": "text"
      },
      "source": [
        "<a href=\"https://colab.research.google.com/github/gamzenurmadan/miuul-HERDataCamp/blob/main/python_programming_for_data_science_week1.ipynb\" target=\"_parent\"><img src=\"https://colab.research.google.com/assets/colab-badge.svg\" alt=\"Open In Colab\"/></a>"
      ]
    },
    {
      "cell_type": "markdown",
      "source": [
        "**Görev 1.2:**  Verilen string ifadenin tüm harflerini büyük harfe çeviriniz. Virgül ve nokta yerine space koyunuz, kelime kelime ayırınız."
      ],
      "metadata": {
        "id": "QN2NdgL2DvN9"
      }
    },
    {
      "cell_type": "code",
      "execution_count": null,
      "metadata": {
        "id": "-4PdvNBuL-mu",
        "colab": {
          "base_uri": "https://localhost:8080/"
        },
        "outputId": "2c75b8bc-c54d-4087-f575-3ac8f1f80045"
      },
      "outputs": [
        {
          "output_type": "stream",
          "name": "stdout",
          "text": [
            "['THE', 'GOAL', 'IS', 'TO', 'TURN', 'DATA', 'INTO', 'INFORMATION', 'AND', 'INFORMATION', 'INTO', 'INSIGHT']\n"
          ]
        }
      ],
      "source": [
        "text = \"The goal is to turn data into information, and information into insight\"\n",
        "new_text = text.replace(\",\", \"\")\n",
        "replaced_text = new_text.replace(\".\", \" \")\n",
        "replaced_list= replaced_text.split(\" \")\n",
        "print([word.upper() for word in replaced_list])"
      ]
    },
    {
      "cell_type": "markdown",
      "source": [
        "**Görev 1.3:**  Verilen listeye aşağıdaki adımları uygulayınız.\n",
        "* *Adım 1:* Verilen listenin eleman sayısına bakınız.\n",
        "* *Adım 2:* Sıfırıncı ve onuncu indeksteki elemanları çağırınız.\n",
        "* *Adım 3:* Verilen liste üzerinden [\"D\", \"A\", \"T\", \"A\"] listesi oluşturunuz.\n",
        "* *Adım 4:* Sekizinci indeksteki elemanı siliniz.\n",
        "* *Adım 5:* Yeni bir eleman ekleyiniz.\n",
        "* *Adım 6*: Sekizinci indekse \"N\" elemanını tekrar ekleyiniz.\n"
      ],
      "metadata": {
        "id": "u-ePReJPD55i"
      }
    },
    {
      "cell_type": "code",
      "source": [
        "lst = ['D', 'A', 'T', 'A', 'S', 'C', 'I', 'E', 'N', 'C', 'E']\n",
        "print(len(lst))\n",
        "print(lst[0], lst[10])\n",
        "print(lst[0:4])\n",
        "lst.remove(lst[8])\n",
        "lst.append(\"H\")\n",
        "lst.insert(8, \"N\")\n",
        "print(lst)"
      ],
      "metadata": {
        "id": "RJxGPAz8A9ds",
        "colab": {
          "base_uri": "https://localhost:8080/"
        },
        "outputId": "2a47308f-67d2-4b2a-ed80-d96d0c22cc38"
      },
      "execution_count": null,
      "outputs": [
        {
          "output_type": "stream",
          "name": "stdout",
          "text": [
            "11\n",
            "D E\n",
            "['D', 'A', 'T', 'A']\n",
            "['D', 'A', 'T', 'A', 'S', 'C', 'I', 'E', 'N', 'C', 'E', 'H']\n"
          ]
        }
      ]
    },
    {
      "cell_type": "markdown",
      "source": [
        "**Görev 1.4**:  Verilen sözlük yapısına aşağıdaki adımları uygulayınız.\n",
        "* *Adım 1:* Key değerlerine erişiniz.\n",
        "* *Adım 2:* Value'lara erişiniz.\n",
        "* *Adım 3:* Daisy key'ine ait 12 değerini 13 olarak güncelleyiniz.\n",
        "* *Adım 4:* Key değeri Ahmet value değeri [Turkey,24] olan yeni bir değer ekleyiniz.\n",
        "* *Adım 5:* Antonio'yu dictionary'den siliniz.\n"
      ],
      "metadata": {
        "id": "7_55rFBOEkdR"
      }
    },
    {
      "cell_type": "code",
      "source": [
        "dct = {'Christian': ['America', 18], 'Daisy': ['England', 12], 'Antonio': ['Spain', 22], 'Dante': ['Italy', 25]}\n",
        "print(dct.keys())\n",
        "print(dct.values())\n",
        "dct['Daisy'][1] = 13\n",
        "dct.update({'Ahmet':['Turkey', 24]})\n",
        "dct.pop('Antonio')\n",
        "print(dct)"
      ],
      "metadata": {
        "colab": {
          "base_uri": "https://localhost:8080/"
        },
        "id": "PngwXkB0hNMY",
        "outputId": "9179b9af-b853-4969-da5a-f95890368e2c"
      },
      "execution_count": null,
      "outputs": [
        {
          "output_type": "stream",
          "name": "stdout",
          "text": [
            "dict_keys(['Christian', 'Daisy', 'Antonio', 'Dante'])\n",
            "dict_values([['America', 18], ['England', 12], ['Spain', 22], ['Italy', 25]])\n",
            "{'Christian': ['America', 18], 'Daisy': ['England', 13], 'Dante': ['Italy', 25], 'Ahmet': ['Turkey', 24]}\n"
          ]
        }
      ]
    },
    {
      "cell_type": "markdown",
      "source": [
        "**Görev 1.5**: Argüman olarak bir liste alan listenin içerisindeki tek ve çift sayıları ayrı listelere atayan ve bu listeleri return eden fonksiyon yazınız."
      ],
      "metadata": {
        "id": "LJ64c6i-E-Q3"
      }
    },
    {
      "cell_type": "code",
      "source": [
        "l = [2, 13, 18, 93, 22]\n",
        "\n",
        "def even_odd_list(newlist):\n",
        "  even_list=[]\n",
        "  odd_list=[]\n",
        "  for num in newlist:\n",
        "    if num%2==0:\n",
        "      even_list.append(num)\n",
        "    else:\n",
        "      odd_list.append(num)\n",
        "  return even_list, odd_list\n",
        "\n",
        "even_list, odd_list = even_odd_list(l)\n",
        "print(even_list)\n",
        "print(odd_list)"
      ],
      "metadata": {
        "id": "hLc3CrxMRr70",
        "colab": {
          "base_uri": "https://localhost:8080/"
        },
        "outputId": "c64a6b58-c302-41d9-8e08-e357e872fdd6"
      },
      "execution_count": null,
      "outputs": [
        {
          "output_type": "stream",
          "name": "stdout",
          "text": [
            "[2, 18, 22]\n",
            "[13, 93]\n"
          ]
        }
      ]
    },
    {
      "cell_type": "markdown",
      "source": [
        "**Görev 6:** Aşağıda verilen listede mühendislik ve tıp fakülterinde dereceye giren öğrencilerin isimleri bulunmaktadır. Sırasıyla ilk üç öğrenci mühendislik fakültesinin başarı sırasını temsil ederken son üç öğrenci de tıp fakültesi öğrenci sırasına aittir. Enumarate kullanarak öğrenci derecelerini fakülte özelinde yazdırınız."
      ],
      "metadata": {
        "id": "qcHVrwwMFOMY"
      }
    },
    {
      "cell_type": "code",
      "source": [
        "ogrenciler = ['Ali', 'Veli', 'Ayşe', 'Talat', \"Zeynep\", \"Ece\"]\n",
        "\n",
        "for index, ogrenci in enumerate(ogrenciler[0:3], 1):\n",
        "  print(\"Muhendislik Fakultesi\", index, \". ogrenci: \", ogrenci)\n",
        "\n",
        "for index, ogrenci in enumerate(ogrenciler[3:], 1):\n",
        "  print(\"Tıp Fakultesi\", index, \". ogrenci: \", ogrenci)"
      ],
      "metadata": {
        "id": "pPSthjGYSGCF",
        "colab": {
          "base_uri": "https://localhost:8080/"
        },
        "outputId": "cd851a5c-82c7-40da-d450-c6545cfea7f8"
      },
      "execution_count": null,
      "outputs": [
        {
          "output_type": "stream",
          "name": "stdout",
          "text": [
            "Muhendislik Fakultesi 1 . ogrenci:  Ali\n",
            "Muhendislik Fakultesi 2 . ogrenci:  Veli\n",
            "Muhendislik Fakultesi 3 . ogrenci:  Ayşe\n",
            "Tıp Fakultesi 1 . ogrenci:  Talat\n",
            "Tıp Fakultesi 2 . ogrenci:  Zeynep\n",
            "Tıp Fakultesi 3 . ogrenci:  Ece\n"
          ]
        }
      ]
    },
    {
      "cell_type": "markdown",
      "source": [
        "**Görev 7:** Aşağıda 3 adet liste verilmiştir. Listelerde sırası ile bir dersin kodu, kredisi ve kontenjan bilgileri yer almaktadır. Zip kullanarak ders bilgilerini bastırınız."
      ],
      "metadata": {
        "id": "HFKwGwQRFq86"
      }
    },
    {
      "cell_type": "code",
      "source": [
        "ders_kodu = [\"CMP1005\", \"PSY1001\", \"HUK1005\", \"SEN2204\"]\n",
        "kredi = [3, 4, 2, 4]\n",
        "kontenjan = [30, 75, 150, 25]\n",
        "concat_list = list(zip(ders_kodu, kredi, kontenjan))\n",
        "\n",
        "for element in concat_list:\n",
        "  print(\"Kredisi\", element[1], \"olan\", element[0], \"kodlu dersin kontenjanı\", element[2], \"kişidir.\")"
      ],
      "metadata": {
        "id": "2DkEDfxoU-ep",
        "colab": {
          "base_uri": "https://localhost:8080/"
        },
        "outputId": "80d5122f-bbc0-4f72-b3c3-04102291c324"
      },
      "execution_count": null,
      "outputs": [
        {
          "output_type": "stream",
          "name": "stdout",
          "text": [
            "Kredisi 3 olan CMP1005 kodlu dersin kontenjanı 30 kişidir.\n",
            "Kredisi 4 olan PSY1001 kodlu dersin kontenjanı 75 kişidir.\n",
            "Kredisi 2 olan HUK1005 kodlu dersin kontenjanı 150 kişidir.\n",
            "Kredisi 4 olan SEN2204 kodlu dersin kontenjanı 25 kişidir.\n"
          ]
        }
      ]
    },
    {
      "cell_type": "markdown",
      "source": [
        "**Görev 8**:Aşağıda 2 adet set verilmiştir. Sizden istenilen eğer 1. küme 2. kümeyi kapsiyor ise ortak elemanlarını eğer kapsamıyor ise 2. kümenin 1. kümeden farkını yazdıracak fonksiyonu tanımlamanız beklenmektedir."
      ],
      "metadata": {
        "id": "BLGhLIpeF3lW"
      }
    },
    {
      "cell_type": "code",
      "source": [
        "kume1 = set([\"data\", \"python\"])\n",
        "kume2 = set([\"data\", \"function\", \"qcut\", \"lambda\", \"python\", \"miuul\"])\n",
        "\n",
        "if kume1.issuperset(kume2):\n",
        "  print(kume1.intersection(kume2))\n",
        "else:\n",
        "  print(kume2.difference(kume1))"
      ],
      "metadata": {
        "id": "yuAtWisKVJ3p",
        "colab": {
          "base_uri": "https://localhost:8080/"
        },
        "outputId": "56005c7f-87d3-48d2-f52c-e19a8fee7a20"
      },
      "execution_count": null,
      "outputs": [
        {
          "output_type": "stream",
          "name": "stdout",
          "text": [
            "{'function', 'miuul', 'qcut', 'lambda'}\n"
          ]
        }
      ]
    },
    {
      "cell_type": "markdown",
      "source": [
        "**Görev 2.1:**  List Comprehension yapısı kullanarak car_crashes verisindeki numeric değişkenlerin isimlerini büyük harfe çeviriniz ve başına NUM ekleyiniz.Beklenen çıktı: Numeric olmayan değişkenlerin de isimleri büyümeli.Tek bir list comprehension yapısı kullanılmalı."
      ],
      "metadata": {
        "id": "UZWD9dTdC5R0"
      }
    },
    {
      "cell_type": "code",
      "source": [
        "import seaborn as sns\n",
        "df = sns.load_dataset(\"car_crashes\")\n",
        "df.columns"
      ],
      "metadata": {
        "id": "EnIs_ttgVljC",
        "colab": {
          "base_uri": "https://localhost:8080/"
        },
        "outputId": "1db07db6-84b7-47b9-f5a4-ecc586cdf961"
      },
      "execution_count": 2,
      "outputs": [
        {
          "output_type": "execute_result",
          "data": {
            "text/plain": [
              "Index(['total', 'speeding', 'alcohol', 'not_distracted', 'no_previous',\n",
              "       'ins_premium', 'ins_losses', 'abbrev'],\n",
              "      dtype='object')"
            ]
          },
          "metadata": {},
          "execution_count": 2
        }
      ]
    },
    {
      "cell_type": "code",
      "source": [
        "[\"NUM_\"+ col.upper()  if df[col].dtype!= 'O' else col.upper() for col in df.columns]"
      ],
      "metadata": {
        "colab": {
          "base_uri": "https://localhost:8080/"
        },
        "id": "XgN_LOvJ9-xk",
        "outputId": "82ad2071-f922-4642-f809-664d36bb884e"
      },
      "execution_count": 11,
      "outputs": [
        {
          "output_type": "execute_result",
          "data": {
            "text/plain": [
              "['NUM_TOTAL',\n",
              " 'NUM_SPEEDING',\n",
              " 'NUM_ALCOHOL',\n",
              " 'NUM_NOT_DISTRACTED',\n",
              " 'NUM_NO_PREVIOUS',\n",
              " 'NUM_INS_PREMIUM',\n",
              " 'NUM_INS_LOSSES',\n",
              " 'ABBREV']"
            ]
          },
          "metadata": {},
          "execution_count": 11
        }
      ]
    },
    {
      "cell_type": "markdown",
      "source": [
        "**Görev 2.2:**  List Comprehension yapısı kullanarak car_crashes verisinde isminde \"no\" barındırmayan değişkenlerin isimlerinin sonuna \"FLAG\" yazınız."
      ],
      "metadata": {
        "id": "5CvzaRIuDDkP"
      }
    },
    {
      "cell_type": "code",
      "source": [
        "[col.upper()+\"_FLAG\" if \"no\" not in col else col.upper() for col in df.columns]"
      ],
      "metadata": {
        "colab": {
          "base_uri": "https://localhost:8080/"
        },
        "id": "mxEZOADpAnlu",
        "outputId": "28fc1046-c4fb-4d73-87b0-f1f9bfb10b0e"
      },
      "execution_count": 12,
      "outputs": [
        {
          "output_type": "execute_result",
          "data": {
            "text/plain": [
              "['TOTAL_FLAG',\n",
              " 'SPEEDING_FLAG',\n",
              " 'ALCOHOL_FLAG',\n",
              " 'NOT_DISTRACTED',\n",
              " 'NO_PREVIOUS',\n",
              " 'INS_PREMIUM_FLAG',\n",
              " 'INS_LOSSES_FLAG',\n",
              " 'ABBREV_FLAG']"
            ]
          },
          "metadata": {},
          "execution_count": 12
        }
      ]
    },
    {
      "cell_type": "markdown",
      "source": [
        "**Görev 2.3**:  List Comprehension yapısı kullanarak aşağıda verilen değişken isimlerinden FARKLI olan değişkenlerin isimlerini seçiniz ve yeni bir dataframe oluşturunuz."
      ],
      "metadata": {
        "id": "6VHFTU5iDcvs"
      }
    },
    {
      "cell_type": "code",
      "source": [
        "new_cols = [col for col in df.columns if col != \"abbrev\" and col != \"no_previous\"]"
      ],
      "metadata": {
        "id": "kjBkL5p4A-_2"
      },
      "execution_count": 15,
      "outputs": []
    },
    {
      "cell_type": "code",
      "source": [
        "new_df = df[new_cols]\n",
        "print(new_df.head(5))"
      ],
      "metadata": {
        "colab": {
          "base_uri": "https://localhost:8080/"
        },
        "id": "1mKhxoKUB1ns",
        "outputId": "b7e437f2-3519-4226-be6f-046e0e41e0bd"
      },
      "execution_count": 18,
      "outputs": [
        {
          "output_type": "stream",
          "name": "stdout",
          "text": [
            "   total  speeding  alcohol  not_distracted  ins_premium  ins_losses\n",
            "0   18.8     7.332    5.640          18.048       784.55      145.08\n",
            "1   18.1     7.421    4.525          16.290      1053.48      133.93\n",
            "2   18.6     6.510    5.208          15.624       899.47      110.35\n",
            "3   22.4     4.032    5.824          21.056       827.34      142.39\n",
            "4   12.0     4.200    3.360          10.920       878.41      165.63\n"
          ]
        }
      ]
    }
  ]
}